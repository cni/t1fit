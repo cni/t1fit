{
 "cells": [
  {
   "cell_type": "code",
   "execution_count": 288,
   "metadata": {
    "collapsed": false
   },
   "outputs": [],
   "source": [
    "%matplotlib inline\n",
    "import nibabel as nb\n",
    "import os\n",
    "import numpy as np\n",
    "import matplotlib.pyplot as plt\n",
    "from glob import glob\n",
    "#import nipy.algorithms.registration\n",
    "from t1_fitter_purepy import T1_fitter"
   ]
  },
  {
   "cell_type": "code",
   "execution_count": 289,
   "metadata": {
    "collapsed": false
   },
   "outputs": [],
   "source": [
    "gs_ni = nb.load('/predator-scratch/muxt1/8194_IR_EPI.nii.gz')\n",
    "si_ni = nb.load('/home/huawu/tmp/t1/mux3r2_fatsat_OFF_pe0_sorted.nii.gz')\n",
    "gs_raw = gs_ni.get_data().astype(np.float)\n",
    "si_raw = si_ni.get_data().astype(np.float)\n",
    "\n",
    "fwhm = 0.0\n",
    "if fwhm>0:\n",
    "    import scipy.ndimage as ndimage\n",
    "    sd = fwhm/np.array(gs_ni._header.get_zooms()[0:3])/2.355\n",
    "    print('Smoothing GS with %0.1f mm FWHM Gaussian (sigma=[%0.2f,%0.2f,%0.2f] voxels)...' % (tuple([fwhm]+sd.tolist())))\n",
    "    for i in xrange(gs_raw.shape[3]):\n",
    "        ndimage.gaussian_filter(gs_raw[...,i], sigma=sd, output=gs_raw[...,i])\n",
    "    sd = fwhm/np.array(si_ni._header.get_zooms()[0:3])/2.355\n",
    "    print('Smoothing SI with %0.1f mm FWHM Gaussian (sigma=[%0.2f,%0.2f,%0.2f] voxels)...' % (tuple([fwhm]+sd.tolist())))\n",
    "    for i in xrange(si_raw.shape[3]):\n",
    "        ndimage.gaussian_filter(si_raw[...,i], sigma=sd, output=si_raw[...,i])"
   ]
  },
  {
   "cell_type": "code",
   "execution_count": 5,
   "metadata": {
    "collapsed": false
   },
   "outputs": [
    {
     "data": {
      "text/plain": [
       "(127, 127, 28)"
      ]
     },
     "execution_count": 5,
     "metadata": {},
     "output_type": "execute_result"
    }
   ],
   "source": [
    "gs_ni.shape"
   ]
  },
  {
   "cell_type": "code",
   "execution_count": 290,
   "metadata": {
    "collapsed": false
   },
   "outputs": [],
   "source": [
    "coords = [[-33.,0.,28.],[-33.,2.,28.],[-33.,4.,28.],[-33.,6.,28.],[-33.,8.,28.]]\n",
    "\n",
    "gs_vox = nb.affines.apply_affine(np.linalg.inv(gs_ni.get_affine()),coords).round().astype(int)\n",
    "si_vox = nb.affines.apply_affine(np.linalg.inv(si_ni.get_affine()),coords).round().astype(int)\n",
    "\n",
    "gs_ti = np.array([50.,400.,1200.,2400.])\n",
    "#si_ti = np.array([50.0, 280.77, 511.54, 742.31, 973.08, 1203.85, 1434.62, 1665.38, 1896.15, 2126.92, 2357.69, 2588.46, 2819.23])\n",
    "tr = 3000.\n",
    "nti = 23\n",
    "ti1 = 50.\n",
    "ti_delta = tr/nti\n",
    "si_ti = np.arange(nti-1)*ti_delta + ti1"
   ]
  },
  {
   "cell_type": "code",
   "execution_count": 291,
   "metadata": {
    "collapsed": false
   },
   "outputs": [
    {
     "data": {
      "text/plain": [
       "array([[ 1.30741829,  0.30998063,  0.879945  ,  1.53240422],\n",
       "       [ 1.29241922,  0.29748141,  0.85744641,  1.55490282],\n",
       "       [ 1.26617086,  0.28623211,  0.879945  ,  1.53240422],\n",
       "       [ 1.2911693 ,  0.32622961,  0.88494469,  1.5311543 ],\n",
       "       [ 1.26367102,  0.29248172,  0.88994438,  1.52365477]])"
      ]
     },
     "execution_count": 291,
     "metadata": {},
     "output_type": "execute_result"
    }
   ],
   "source": [
    "gs_roi"
   ]
  },
  {
   "cell_type": "code",
   "execution_count": 292,
   "metadata": {
    "collapsed": false
   },
   "outputs": [],
   "source": [
    "gs_roi = gs_raw[gs_vox[:,0],gs_vox[:,1],gs_vox[:,2],:]\n",
    "si_roi = si_raw[si_vox[:,0],si_vox[:,1],si_vox[:,2],:]\n",
    "\n",
    "gs_roi = gs_roi/gs_roi.mean()\n",
    "si_roi = si_roi/si_roi.mean()"
   ]
  },
  {
   "cell_type": "code",
   "execution_count": 309,
   "metadata": {
    "collapsed": false
   },
   "outputs": [
    {
     "name": "stdout",
     "output_type": "stream",
     "text": [
      "(910.0, 910.0)\n",
      "(949.0, 931.0)\n",
      "(920.0, 805.0)\n",
      "(928.0, 862.0)\n",
      "(911.0, 870.0)\n"
     ]
    },
    {
     "data": {
      "image/png": "[encoded data removed]",
      "text/plain": [
       "<matplotlib.figure.Figure at 0x7f14d9a41750>"
      ]
     },
     "metadata": {},
     "output_type": "display_data"
    }
   ],
   "source": [
    "gs_fit = T1_fitter(gs_ti)\n",
    "si_fit = T1_fitter(si_ti)\n",
    "\n",
    "plt.figure(figsize=(12,6))\n",
    "for i in xrange(gs_roi.shape[0]):\n",
    "    gs_t1,gs_b,gs_a,gs_res,gs_ind = gs_fit.t1_fit_nlspr(gs_roi[i,:])\n",
    "    si_t1,si_b,si_a,si_res,si_ind = si_fit.t1_fit_nlspr(si_roi[i,:]-.06)\n",
    "\n",
    "    gs_model = gs_a + gs_b*np.exp(-si_ti / gs_t1)\n",
    "    si_model = si_a + si_b*np.exp(-si_ti / si_t1)\n",
    "\n",
    "    gs_val = np.concatenate((-gs_roi[i,0:gs_ind], gs_roi[i,gs_ind:]))\n",
    "    si_val = np.concatenate((-si_roi[i,0:si_ind], si_roi[i,si_ind:]))\n",
    "\n",
    "    plt.plot(gs_ti,gs_val,'b.', si_ti,si_val,'r.', si_ti,gs_model,'b--', si_ti,si_model,'r--', ms=15)\n",
    "    print(gs_t1,si_t1)"
   ]
  },
  {
   "cell_type": "code",
   "execution_count": 302,
   "metadata": {
    "collapsed": false
   },
   "outputs": [
    {
     "data": {
      "text/plain": [
       "(910.0, 910.0)"
      ]
     },
     "execution_count": 302,
     "metadata": {},
     "output_type": "execute_result"
    }
   ],
   "source": [
    "(gs_t1,si_t1)"
   ]
  },
  {
   "cell_type": "code",
   "execution_count": 314,
   "metadata": {
    "collapsed": false
   },
   "outputs": [
    {
     "data": {
      "text/plain": [
       "13.867789779004594"
      ]
     },
     "execution_count": 314,
     "metadata": {},
     "output_type": "execute_result"
    }
   ],
   "source": [
    "si_roi = si_raw[si_vox[:,0],si_vox[:,1],si_vox[:,2],:]"
   ]
  },
  {
   "cell_type": "code",
   "execution_count": 120,
   "metadata": {
    "collapsed": false
   },
   "outputs": [
    {
     "name": "stdout",
     "output_type": "stream",
     "text": [
      "(910.0, 944.0, -34.0)\n",
      "(949.0, 964.0, -15.0)\n",
      "(920.0, 845.0, 75.0)\n",
      "(928.0, 899.0, 29.0)\n",
      "(911.0, 902.0, 9.0)\n"
     ]
    }
   ],
   "source": [
    "nskip = 0\n",
    "\n",
    "gs_fit = T1_fitter(gs_ti)\n",
    "si_fit = T1_fitter(si_ti[nskip:])\n",
    "for i in xrange(gs_roi.shape[0]):\n",
    "    gs_t1,gs_b,gs_a,gs_res,gs_ind = gs_fit.t1_fit_nlspr(gs_roi[i,:])\n",
    "    si_t1,si_b,si_a,si_res,si_ind = si_fit.t1_fit_nlspr(si_roi[i,nskip:])\n",
    "    print((gs_t1,si_t1,gs_t1-si_t1))"
   ]
  },
  {
   "cell_type": "code",
   "execution_count": 108,
   "metadata": {
    "collapsed": false
   },
   "outputs": [],
   "source": [
    "si_fit = T1_fitter(si_ti[nskip:])\n",
    "si_t1,si_b,si_a,si_res,si_ind = si_fit.t1_fit_nlspr(si_roi[i,nskip:])"
   ]
  },
  {
   "cell_type": "code",
   "execution_count": 211,
   "metadata": {
    "collapsed": false
   },
   "outputs": [],
   "source": [
    "import scipy.optimize as opt\n",
    "\n",
    "def t1_biexp(ti, p):\n",
    "    S = p[0] * ( 1 - p[2]*(p[1]*np.exp(-ti/p[3]) + (1-p[1])*np.exp(-ti/p[4])))\n",
    "    return S\n",
    "\n",
    "def residuals(p, y, ti):  \n",
    "    err = y - t1_biexp(ti, p) #p[0] * ( 1 - 2*(p[1]*np.exp(-ti/p[3]) + p[2]*np.exp(-ti/p[4])))\n",
    "    return err\n",
    "\n",
    "def fit_biexp(ti, data, p0):\n",
    "    rms = np.zeros(len(ti)+1)\n",
    "    fits = []\n",
    "    tmp_dat = data\n",
    "    plsq = opt.leastsq(residuals, p0, args=(ti, tmp_dat))\n",
    "    rms[0] = np.sum(residuals(plsq[0], ti, tmp_dat)**2)\n",
    "    fits.append((rms, plsq))\n",
    "    for i in xrange(0,data.shape[0]):\n",
    "        tmp_dat[i] = -tmp_dat[i]\n",
    "        plsq = opt.leastsq(residuals, p0, args=(ti, tmp_dat))\n",
    "        rms[i+1] = np.sum(residuals(plsq[0], ti, tmp_dat)**2)\n",
    "        fits.append(plsq)\n",
    "    ind = rms.argmin() \n",
    "    plsq = fits[ind]\n",
    "    return plsq,ind\n",
    "    "
   ]
  },
  {
   "cell_type": "code",
   "execution_count": 216,
   "metadata": {
    "collapsed": false
   },
   "outputs": [],
   "source": [
    "p0 = [si_roi[0,:].mean(), 0.1, 0.5, 100., 1000.]\n",
    "plsq,ind = fit_biexp(si_ti, si_roi[0,:], p0)"
   ]
  },
  {
   "cell_type": "code",
   "execution_count": 360,
   "metadata": {
    "collapsed": false
   },
   "outputs": [
    {
     "data": {
      "text/plain": [
       "(array([  1.42011380e+03,   6.23535369e-03,   6.23569362e-02,\n",
       "         -3.13479580e+05,   1.00000000e-03]), 1)"
      ]
     },
     "execution_count": 360,
     "metadata": {},
     "output_type": "execute_result"
    }
   ],
   "source": [
    "plsq"
   ]
  },
  {
   "cell_type": "code",
   "execution_count": 219,
   "metadata": {
    "collapsed": false
   },
   "outputs": [
    {
     "data": {
      "text/plain": [
       "array([ 24.19043982,  24.19043991,  24.19044   ,  24.1904401 ,\n",
       "        24.19044019,  24.19044028,  24.19044037,  24.19044046,\n",
       "        24.19044055,  24.19044064,  24.19044073,  24.19044082,\n",
       "        24.19044092,  24.19044101,  24.1904411 ,  24.19044119,\n",
       "        24.19044128,  24.19044137,  24.19044146,  24.19044155,\n",
       "        24.19044165,  24.19044174])"
      ]
     },
     "execution_count": 219,
     "metadata": {},
     "output_type": "execute_result"
    }
   ],
   "source": [
    "t1_biexp(si_ti, plsq[0])"
   ]
  },
  {
   "cell_type": "code",
   "execution_count": 177,
   "metadata": {
    "collapsed": false
   },
   "outputs": [
    {
     "data": {
      "text/plain": [
       "array([ 1.19427218,  0.79861022,  0.39126981,  0.16748889,  0.14254609,\n",
       "        0.36142392,  0.54827469,  0.81022798,  0.78036732,  0.92231468,\n",
       "        0.96060937,  1.01987837,  1.14578296,  1.26764765,  1.34014646,\n",
       "        1.39735175,  1.44432197,  1.43465613,  1.42767787,  1.57294094,\n",
       "        1.50203605,  1.58839945])"
      ]
     },
     "execution_count": 177,
     "metadata": {},
     "output_type": "execute_result"
    }
   ],
   "source": [
    "si_roi[0,:]"
   ]
  },
  {
   "cell_type": "code",
   "execution_count": 178,
   "metadata": {
    "collapsed": false
   },
   "outputs": [
    {
     "data": {
      "text/plain": [
       "1"
      ]
     },
     "execution_count": 178,
     "metadata": {},
     "output_type": "execute_result"
    }
   ],
   "source": [
    "plsq[1]"
   ]
  },
  {
   "cell_type": "code",
   "execution_count": 182,
   "metadata": {
    "collapsed": false
   },
   "outputs": [
    {
     "data": {
      "text/plain": [
       "6653.5275882510005"
      ]
     },
     "execution_count": 182,
     "metadata": {},
     "output_type": "execute_result"
    }
   ],
   "source": [
    "(residuals(p, si_roi[0], ti)**2).sum()"
   ]
  },
  {
   "cell_type": "code",
   "execution_count": 183,
   "metadata": {
    "collapsed": false
   },
   "outputs": [
    {
     "data": {
      "text/plain": [
       "[1, 2, 3, 4, 5, 6, 7, 8, 9]"
      ]
     },
     "execution_count": 183,
     "metadata": {},
     "output_type": "execute_result"
    }
   ],
   "source": [
    "range(1,10)"
   ]
  },
  {
   "cell_type": "code",
   "execution_count": null,
   "metadata": {
    "collapsed": false
   },
   "outputs": [],
   "source": []
  }
 ],
 "metadata": {
  "kernelspec": {
   "display_name": "IPython (Python 2)",
   "language": "python",
   "name": "python2"
  },
  "language_info": {
   "name": "python",
   "version": "2.7.6"
  }
 },
 "nbformat": 4,
 "nbformat_minor": 0
}
